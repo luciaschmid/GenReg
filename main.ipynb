{
 "cells": [
  {
   "cell_type": "markdown",
   "metadata": {},
   "source": [
    "Imports"
   ]
  },
  {
   "cell_type": "code",
   "execution_count": 4,
   "metadata": {
    "pycharm": {
     "name": "#%%\n"
    }
   },
   "outputs": [
    {
     "name": "stdout",
     "output_type": "stream",
     "text": [
      "The autoreload extension is already loaded. To reload it, use:\n",
      "  %reload_ext autoreload\n"
     ]
    }
   ],
   "source": [
    "%load_ext autoreload\n",
    "%autoreload 2\n",
    "from pathlib import Path\n",
    "import numpy as np\n",
    "import matplotlib as plt\n",
    "import torch"
   ]
  },
  {
   "cell_type": "code",
   "execution_count": 5,
   "metadata": {
    "pycharm": {
     "name": "#%%\n"
    }
   },
   "outputs": [
    {
     "data": {
      "text/plain": [
       "True"
      ]
     },
     "execution_count": 5,
     "metadata": {},
     "output_type": "execute_result"
    }
   ],
   "source": [
    "torch.cuda.is_available()"
   ]
  },
  {
   "cell_type": "markdown",
   "metadata": {
    "collapsed": true,
    "pycharm": {
     "name": "#%% md\n"
    }
   },
   "source": [
    "Download datasets"
   ]
  },
  {
   "cell_type": "code",
   "execution_count": 14,
   "metadata": {
    "pycharm": {
     "name": "#%%\n"
    }
   },
   "outputs": [
    {
     "name": "stdout",
     "output_type": "stream",
     "text": [
      "Downloading ModelNet40...\n",
      "--2022-01-07 20:56:28--  http://modelnet.cs.princeton.edu/ModelNet40.zip\n",
      "Resolving modelnet.cs.princeton.edu (modelnet.cs.princeton.edu)... 128.112.136.61\n",
      "Connecting to modelnet.cs.princeton.edu (modelnet.cs.princeton.edu)|128.112.136.61|:80... connected.\n",
      "HTTP request sent, awaiting response... 200 OK\n",
      "Length: 2039180837 (1,9G) [application/zip]\n",
      "Saving to: ‘data/ModelNet40.zip’\n",
      "\n",
      "ModelNet40.zip      100%[===================>]   1,90G  10,3MB/s    in 3m 8s   \n",
      "\n",
      "2022-01-07 20:59:39 (10,3 MB/s) - ‘data/ModelNet40.zip’ saved [2039180837/2039180837]\n",
      "\n",
      "Extracting ModelNet40...\n",
      "ModelNet40 done\n"
     ]
    }
   ],
   "source": [

    "# add download of ModelNet40 in data/ModelNet40\n",
    "print('Downloading ModelNet40...')\n",
    "!wget modelnet.cs.princeton.edu/ModelNet40.zip -P data\n",
    "print('Extracting ModelNet40...')\n",
    "!unzip -q data/ModelNet40.zip -d data\n",
    "!rm data/ModelNet40.zip\n",
    "print('ModelNet40 done')"
   ],
   "metadata": {
    "collapsed": false,
    "pycharm": {
     "name": "#%%\n"
    }
   }
  },
  {
   "cell_type": "code",
   "execution_count": 1,
   "outputs": [
    {
     "name": "stdout",
     "output_type": "stream",
     "text": [
      "Jupyter environment detected. Enabling Open3D WebVisualizer.\n",
      "[Open3D INFO] WebRTC GUI backend enabled.\n",
      "[Open3D INFO] WebRTCWindowSystem: HTTP handshake server disabled.\n",
      "Length of train set: 296\n",
      "Length of val set: 57\n"
     ]
    }
   ],
   "source": [
    "from data.SevenScenes import SevenScenes\n",
    "\n",
    "train_dataset = SevenScenes('train')\n",
    "test_dataset = SevenScenes('test')\n",
    "\n",
    "# Get length, which is a call to __len__ function\n",
    "print(f'Length of train set: {len(train_dataset)}')  # expected output: 296\n",
    "# Get length, which is a call to __len__ function\n",
    "print(f'Length of val set: {len(test_dataset)}')  # expected output: 57"
   ],
   "metadata": {
    "collapsed": false,
    "pycharm": {
     "name": "#%%\n"
    }
   }
  },
  {
   "cell_type": "code",
   "execution_count": 3,
   "outputs": [
    {
     "name": "stdout",
     "output_type": "stream",
     "text": [
      "Pointcloud A: torch.Size([2048, 3])\n",
      "Pointcloud B: torch.Size([2048, 3])\n",
      "Transformation Matrix: tensor([[ 0.9993,  0.0282,  0.0255,  0.0150],\n",
      "        [-0.0285,  0.9996,  0.0094,  0.0415],\n",
      "        [-0.0253, -0.0101,  0.9996,  0.0646],\n",
      "        [ 0.0000,  0.0000,  0.0000,  1.0000]])\n"
     ]
    }
   ],
   "source": [
    "train_sample = train_dataset[3]\n",
    "print(f'Pointcloud A: {train_sample[\"pointcloud_a\"].shape}')\n",
    "print(f'Pointcloud B: {train_sample[\"pointcloud_b\"].shape}')\n",
    "print(f'Transformation Matrix: {train_sample[\"transformation_matrix\"]}')"
   ],
   "metadata": {
    "collapsed": false,
    "pycharm": {
     "name": "#%%\n"
    }
   }
    "!python download_datasets.py -d ModelNet40\n",
    "!python download_datasets.py -d 7Scenes"
   ]
  },
  {
   "cell_type": "markdown",
   "metadata": {},
   "source": [
    "Run simple configuration"
   ]
  },
  {
   "cell_type": "code",
   "execution_count": null,
   "outputs": [],
   "source": [],
   "metadata": {
    "collapsed": false,
    "pycharm": {
     "name": "#%%\n"
    }
   }
  },
  {
   "cell_type": "code",
   "execution_count": 2,
   "outputs": [
    {
     "name": "stdout",
     "output_type": "stream",
     "text": [
      "py39_cu102_pyt191\n",
      "Looking in links: https://dl.fbaipublicfiles.com/pytorch3d/packaging/wheels/py39_cu102_pyt191/download.html\r\n",
      "Requirement already satisfied: pytorch3d in /home/lucia/anaconda3/envs/GenReg2/lib/python3.9/site-packages (0.0.1)\r\n"
     ]
    }
   ],
   "source": [
    "import sys\n",
    "import torch\n",
    "pyt_version_str=torch.__version__.split(\"+\")[0].replace(\".\", \"\")\n",
    "version_str=\"\".join([\n",
    "    f\"py3{sys.version_info.minor}_cu\",\n",
    "    torch.version.cuda.replace(\".\",\"\"),\n",
    "    f\"_pyt{pyt_version_str}\"\n",
    "])\n",
    "print(version_str)\n",
    "!pip install pytorch3d -f https://dl.fbaipublicfiles.com/pytorch3d/packaging/wheels/{version_str}/download.html\n"
   ],
   "metadata": {
    "collapsed": false,
    "pycharm": {
     "name": "#%%\n"
    }
   }
  },
  {
   "cell_type": "code",
   "execution_count": 7,
   "metadata": {
    "pycharm": {
     "name": "#%%\n"
    }
   },
   "outputs": [],
   "source": [
    "# run simple configuration"
   ]
  },
  {
   "cell_type": "markdown",
   "metadata": {},
   "source": [
    "Visualize results"
   ]
  },
  {
   "cell_type": "code",
   "execution_count": 8,
   "metadata": {
    "pycharm": {
     "name": "#%%\n"
    }
   },
   "outputs": [],
   "source": [
    "# add visualization"
   ]
  }
 ],
 "metadata": {
  "kernelspec": {
   "display_name": "ml3dg",
   "language": "python",
   "name": "ml3dg"
  },
  "language_info": {
   "codemirror_mode": {
    "name": "ipython",
    "version": 3
   },
   "file_extension": ".py",
   "mimetype": "text/x-python",
   "name": "python",
   "nbconvert_exporter": "python",
   "pygments_lexer": "ipython3",
   "version": "3.8.0"
  }
 },
 "nbformat": 4,
 "nbformat_minor": 1
}
