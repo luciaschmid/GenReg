{
 "cells": [
  {
   "cell_type": "markdown",
   "source": [
    "Imports"
   ],
   "metadata": {
    "collapsed": false
   }
  },
  {
   "cell_type": "code",
   "execution_count": 4,
   "outputs": [
    {
     "name": "stdout",
     "output_type": "stream",
     "text": [
      "The autoreload extension is already loaded. To reload it, use:\n",
      "  %reload_ext autoreload\n"
     ]
    }
   ],
   "source": [
    "%load_ext autoreload\n",
    "%autoreload 2\n",
    "from pathlib import Path\n",
    "import numpy as np\n",
    "import matplotlib as plt\n",
    "import torch"
   ],
   "metadata": {
    "collapsed": false,
    "pycharm": {
     "name": "#%%\n"
    }
   }
  },
  {
   "cell_type": "code",
   "execution_count": 5,
   "outputs": [
    {
     "data": {
      "text/plain": "True"
     },
     "execution_count": 5,
     "metadata": {},
     "output_type": "execute_result"
    }
   ],
   "source": [
    "torch.cuda.is_available()"
   ],
   "metadata": {
    "collapsed": false,
    "pycharm": {
     "name": "#%%\n"
    }
   }
  },
  {
   "cell_type": "markdown",
   "metadata": {
    "collapsed": true,
    "pycharm": {
     "name": "#%% md\n"
    }
   },
   "source": [
    "Download datasets"
   ]
  },
  {
   "cell_type": "code",
   "execution_count": 9,
   "outputs": [
    {
     "name": "stdout",
     "output_type": "stream",
     "text": [
      "Downloading ModelNet40...\n",
      "--2021-12-12 22:01:08--  http://modelnet.cs.princeton.edu/ModelNet40.zip\r\n",
      "Resolving modelnet.cs.princeton.edu (modelnet.cs.princeton.edu)... 128.112.136.61\r\n",
      "Connecting to modelnet.cs.princeton.edu (modelnet.cs.princeton.edu)|128.112.136.61|:80... connected.\r\n",
      "HTTP request sent, awaiting response... 200 OK\r\n",
      "Length: 2039180837 (1.9G) [application/zip]\r\n",
      "Saving to: ‘data/ModelNet40.zip’\r\n",
      "\r\n",
      "ModelNet40.zip      100%[===================>]   1.90G  3.24MB/s    in 45m 0s  \r\n",
      "\r\n",
      "2021-12-12 22:46:08 (738 KB/s) - ‘data/ModelNet40.zip’ saved [2039180837/2039180837]\r\n",
      "\r\n",
      "Extracting ModelNet40...\n",
      "ModelNet40 done\n",
      "Downloading 7Scenes...\n",
      "--2021-12-12 22:47:04--  http://download.microsoft.com/download/2/8/5/28564B23-0828-408F-8631-23B1EFF1DAC8/tsdf.zip\r\n",
      "Resolving download.microsoft.com (download.microsoft.com)... 2a02:26f0:3500:595::e59, 2a02:26f0:3500:583::e59, 23.213.164.137\r\n",
      "Connecting to download.microsoft.com (download.microsoft.com)|2a02:26f0:3500:595::e59|:80... connected.\r\n",
      "HTTP request sent, awaiting response... 302 Moved Temporarily\r\n",
      "Location: https://download.microsoft.com/download/2/8/5/28564B23-0828-408F-8631-23B1EFF1DAC8/tsdf.zip [following]\r\n",
      "--2021-12-12 22:47:08--  https://download.microsoft.com/download/2/8/5/28564B23-0828-408F-8631-23B1EFF1DAC8/tsdf.zip\r\n",
      "Connecting to download.microsoft.com (download.microsoft.com)|2a02:26f0:3500:595::e59|:443... connected.\r\n",
      "HTTP request sent, awaiting response... 200 OK\r\n",
      "Length: 158426584 (151M) [application/octet-stream]\r\n",
      "Saving to: ‘data/tsdf.zip’\r\n",
      "\r\n",
      "tsdf.zip            100%[===================>] 151.09M  5.13MB/s    in 35s     \r\n",
      "\r\n",
      "2021-12-12 22:47:43 (4.34 MB/s) - ‘data/tsdf.zip’ saved [158426584/158426584]\r\n",
      "\r\n",
      "Extracting 7Scenes...\n",
      "7Scenes done\n"
     ]
    }
   ],
   "source": [
    "# add download of ModelNet40 in data/ModelNet40\n",
    "print('Downloading ModelNet40...')\n",
    "!wget modelnet.cs.princeton.edu/ModelNet40.zip -P data\n",
    "print('Extracting ModelNet40...')\n",
    "!unzip -q data/ModelNet40.zip -d data\n",
    "!rm data/ModelNet40.zip\n",
    "print('ModelNet40 done')\n",
    "\n",
    "# add download of 7Scenes in data/tsdf\n",
    "print('Downloading 7Scenes...')\n",
    "!wget download.microsoft.com/download/2/8/5/28564B23-0828-408F-8631-23B1EFF1DAC8/tsdf.zip -P data\n",
    "print('Extracting 7Scenes...')\n",
    "!unzip -q data/tsdf.zip -d data\n",
    "!rm data/tsdf.zip\n",
    "print('7Scenes done')"
   ],
   "metadata": {
    "collapsed": false,
    "pycharm": {
     "name": "#%%\n"
    }
   }
  },
  {
   "cell_type": "markdown",
   "source": [
    "Run simple configuration"
   ],
   "metadata": {
    "collapsed": false
   }
  },
  {
   "cell_type": "code",
   "execution_count": 7,
   "outputs": [],
   "source": [
    "# run simple configuration"
   ],
   "metadata": {
    "collapsed": false,
    "pycharm": {
     "name": "#%%\n"
    }
   }
  },
  {
   "cell_type": "markdown",
   "source": [
    "Visualize results"
   ],
   "metadata": {
    "collapsed": false
   }
  },
  {
   "cell_type": "code",
   "execution_count": 8,
   "outputs": [],
   "source": [
    "# add visualization"
   ],
   "metadata": {
    "collapsed": false,
    "pycharm": {
     "name": "#%%\n"
    }
   }
  }
 ],
 "metadata": {
  "kernelspec": {
   "display_name": "Python 3",
   "language": "python",
   "name": "python3"
  },
  "language_info": {
   "codemirror_mode": {
    "name": "ipython",
    "version": 2
   },
   "file_extension": ".py",
   "mimetype": "text/x-python",
   "name": "python",
   "nbconvert_exporter": "python",
   "pygments_lexer": "ipython2",
   "version": "2.7.6"
  }
 },
 "nbformat": 4,
 "nbformat_minor": 0
}