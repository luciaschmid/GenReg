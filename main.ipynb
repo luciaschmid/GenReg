{
 "cells": [
  {
   "cell_type": "markdown",
   "metadata": {},
   "source": [
    "Imports"
   ]
  },
  {
   "cell_type": "code",
   "execution_count": 4,
   "metadata": {
    "pycharm": {
     "name": "#%%\n"
    }
   },
   "outputs": [
    {
     "name": "stdout",
     "output_type": "stream",
     "text": [
      "The autoreload extension is already loaded. To reload it, use:\n",
      "  %reload_ext autoreload\n"
     ]
    }
   ],
   "source": [
    "%load_ext autoreload\n",
    "%autoreload 2\n",
    "from pathlib import Path\n",
    "import numpy as np\n",
    "import matplotlib as plt\n",
    "import torch"
   ]
  },
  {
   "cell_type": "code",
   "execution_count": 5,
   "metadata": {
    "pycharm": {
     "name": "#%%\n"
    }
   },
   "outputs": [
    {
     "data": {
      "text/plain": [
       "True"
      ]
     },
     "execution_count": 5,
     "metadata": {},
     "output_type": "execute_result"
    }
   ],
   "source": [
    "torch.cuda.is_available()"
   ]
  },
  {
   "cell_type": "markdown",
   "metadata": {
    "collapsed": true,
    "pycharm": {
     "name": "#%% md\n"
    }
   },
   "source": [
    "Download datasets"
   ]
  },
  {
   "cell_type": "code",
   "execution_count": 10,
   "metadata": {
    "pycharm": {
     "name": "#%%\n"
    }
   },
   "outputs": [
    {
     "name": "stdout",
     "output_type": "stream",
     "text": [
      "Downloading 7Scenes...\n",
      "--2022-01-07 19:15:26--  http://download.microsoft.com/download/2/8/5/28564B23-0828-408F-8631-23B1EFF1DAC8/tsdf.zip\n",
      "Resolving download.microsoft.com (download.microsoft.com)... 2a02:26f0:3500:583::e59, 2a02:26f0:3500:595::e59, 184.30.20.109\n",
      "Connecting to download.microsoft.com (download.microsoft.com)|2a02:26f0:3500:583::e59|:80... connected.\n",
      "HTTP request sent, awaiting response... 302 Moved Temporarily\n",
      "Location: https://download.microsoft.com/download/2/8/5/28564B23-0828-408F-8631-23B1EFF1DAC8/tsdf.zip [following]\n",
      "--2022-01-07 19:15:26--  https://download.microsoft.com/download/2/8/5/28564B23-0828-408F-8631-23B1EFF1DAC8/tsdf.zip\n",
      "Connecting to download.microsoft.com (download.microsoft.com)|2a02:26f0:3500:583::e59|:443... connected.\n",
      "HTTP request sent, awaiting response... 200 OK\n",
      "Length: 158426584 (151M) [application/octet-stream]\n",
      "Saving to: ‘data/tsdf.zip’\n",
      "\n",
      "tsdf.zip            100%[===================>] 151,09M  6,10MB/s    in 28s     \n",
      "\n",
      "2022-01-07 19:15:55 (5,34 MB/s) - ‘data/tsdf.zip’ saved [158426584/158426584]\n",
      "\n",
      "Extracting ModelNet40...\n",
      "unzip:  cannot find or open data/7Scenes.zip, data/7Scenes.zip.zip or data/7Scenes.zip.ZIP.\n",
      "rm: cannot remove 'data/7Scenes.zip': No such file or directory\n",
      "ModelNet40 done\n"
     ]
    }
   ],
   "source": [
    "!python download_datasets.py -d ModelNet40\n",
    "!python download_datasets.py -d 7Scenes"
   ]
  },
  {
   "cell_type": "markdown",
   "metadata": {},
   "source": [
    "Run simple configuration"
   ]
  },
  {
   "cell_type": "code",
   "execution_count": 7,
   "metadata": {
    "pycharm": {
     "name": "#%%\n"
    }
   },
   "outputs": [],
   "source": [
    "# run simple configuration"
   ]
  },
  {
   "cell_type": "markdown",
   "metadata": {},
   "source": [
    "Visualize results"
   ]
  },
  {
   "cell_type": "code",
   "execution_count": 8,
   "metadata": {
    "pycharm": {
     "name": "#%%\n"
    }
   },
   "outputs": [],
   "source": [
    "# add visualization"
   ]
  }
 ],
 "metadata": {
  "kernelspec": {
   "display_name": "ml3dg",
   "language": "python",
   "name": "ml3dg"
  },
  "language_info": {
   "codemirror_mode": {
    "name": "ipython",
    "version": 3
   },
   "file_extension": ".py",
   "mimetype": "text/x-python",
   "name": "python",
   "nbconvert_exporter": "python",
   "pygments_lexer": "ipython3",
   "version": "3.8.0"
  }
 },
 "nbformat": 4,
 "nbformat_minor": 1
}
